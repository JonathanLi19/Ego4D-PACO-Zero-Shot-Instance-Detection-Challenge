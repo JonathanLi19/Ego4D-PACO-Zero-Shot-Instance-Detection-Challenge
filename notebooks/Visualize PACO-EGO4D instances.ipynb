{
 "cells": [
  {
   "cell_type": "markdown",
   "id": "737a1cf7",
   "metadata": {},
   "source": [
    "## Specify dataset name"
   ]
  },
  {
   "cell_type": "code",
   "execution_count": null,
   "id": "a8ea717e",
   "metadata": {},
   "outputs": [],
   "source": [
    "# Specify dataset name. Available options:\n",
    "# dataset_name = \"paco_ego4d_v1_train\"\n",
    "# dataset_name = \"paco_ego4d_v1_val\"\n",
    "# dataset_name = \"paco_ego4d_v1_test\"\n",
    "dataset_name = \"paco_ego4d_v1_test\"\n"
   ]
  },
  {
   "cell_type": "markdown",
   "id": "ff6fea9d",
   "metadata": {},
   "source": [
    "## Load dataset and extract maps"
   ]
  },
  {
   "cell_type": "code",
   "execution_count": null,
   "id": "f055b7fd",
   "metadata": {},
   "outputs": [],
   "source": [
    "import json\n",
    "from paco.data.datasets.builtin import _PREDEFINED_PACO\n",
    "\n",
    "# Derived parameters.\n",
    "dataset_file_name, image_root_dir = _PREDEFINED_PACO[dataset_name]\n",
    "\n",
    "# Load dataset.\n",
    "with open(dataset_file_name) as f:\n",
    "    dataset = json.load(f)\n"
   ]
  },
  {
   "cell_type": "code",
   "execution_count": null,
   "id": "4fcbd991",
   "metadata": {},
   "outputs": [],
   "source": [
    "import os\n",
    "from collections import defaultdict\n",
    "\n",
    "# Extract maps from dataset.\n",
    "image_id_to_fn = {d[\"id\"]: os.path.join(image_root_dir, d[\"file_name\"]) for d in dataset[\"images\"]}\n",
    "cat_id_to_name = {d[\"id\"]: d[\"name\"] for d in dataset[\"categories\"] if \":\" not in d[\"name\"]}\n",
    "cat_name_to_inst_to_anns = defaultdict(lambda: defaultdict(list))\n",
    "for ann in dataset[\"annotations\"]:\n",
    "    if ann[\"id\"] == ann[\"obj_ann_id\"]:\n",
    "        cat_name_to_inst_to_anns[cat_id_to_name[ann[\"category_id\"]]][ann[\"instance_id\"]].append(ann)\n",
    "cat_name_to_inst_to_anns = {k: dict(v) for k, v in cat_name_to_inst_to_anns.items()}\n",
    "print(\"Available categories:\", sorted(cat_name_to_inst_to_anns.keys()))\n"
   ]
  },
  {
   "cell_type": "markdown",
   "id": "2b9fe01d",
   "metadata": {},
   "source": [
    "## Visualization functions"
   ]
  },
  {
   "cell_type": "code",
   "execution_count": null,
   "id": "9cdfb1f9",
   "metadata": {},
   "outputs": [],
   "source": [
    "import os\n",
    "import cv2\n",
    "import numpy as np\n",
    "from PIL import Image, ImageDraw, ImageFont\n",
    "import json\n",
    "from detectron2.utils.file_io import PathManager\n",
    "from detectron2.data.detection_utils import read_image\n",
    "\n",
    "def expand_bounding_box(box, factor, im_height, im_width):\n",
    "    \"\"\"\n",
    "    Expands a bounding box by the specified factor.\n",
    "    Args:\n",
    "        box:        (4, ) NumPy array with bounding box in (left, top, width, height)\n",
    "                    format\n",
    "        factor:     Expansion factor (e.g., 1.5)\n",
    "        im_height:  Image height\n",
    "        im_width:   Image width\n",
    "\n",
    "    Returns:\n",
    "        expanded_box: (4, ) NumPy array with expanded bounding box\n",
    "    \"\"\"\n",
    "    # Extract coordinates.\n",
    "    x1, y1, w, h = box\n",
    "\n",
    "    # Convert from top-left corner to center.\n",
    "    cx = x1 + 0.5 * w\n",
    "    cy = y1 + 0.5 * h\n",
    "\n",
    "    # Find the square size by taking a max side and multiplying it with the\n",
    "    # provided factor.\n",
    "    sq = factor * np.maximum(h, w)\n",
    "\n",
    "    # Reduce the box sides if the expanded box goes out of the image so that center\n",
    "    # of the expanded box remains the same as that of the original box.\n",
    "    new_w = sq + 2 * min(0, cx - sq / 2, im_width - (cx + sq / 2))\n",
    "    new_h = sq + 2 * min(0, cy - sq / 2, im_height - (cy + sq / 2))\n",
    "\n",
    "    # Square the box.\n",
    "    x1 = cx - new_w / 2\n",
    "    y1 = cy - new_h / 2\n",
    "    x2 = cx + new_w / 2\n",
    "    y2 = cy + new_h / 2\n",
    "    expanded_box = np.array([x1, y1, (x2 - x1), (y2 - y1)])\n",
    "\n",
    "    # Return the expanded box.\n",
    "    return expanded_box\n",
    "\n",
    "def image_grid(imgs, rows, cols):\n",
    "    assert len(imgs) == rows*cols\n",
    "\n",
    "    w, h = imgs[0].size\n",
    "    grid = Image.new('RGB', size=(cols*w, rows*h), color=(255, 255, 255))\n",
    "    \n",
    "    for i, img in enumerate(imgs):\n",
    "        grid.paste(img, box=(i%cols*w, i//cols*h))\n",
    "    return grid\n",
    "\n",
    "def visualize_instances(anns, rows, cols, image_id_to_fn, vis_image_width=1920):\n",
    "    \"\"\"\n",
    "    Prepares image grid with one occurrence in each cell for a given list\n",
    "    of occurrences for one instance.\n",
    "    \"\"\"\n",
    "    # Derive parameters.\n",
    "    cell_size = int(round(vis_image_width / cols))\n",
    "    max_num_images = rows * cols\n",
    "    imgs = []\n",
    "    for item_id, ann in enumerate(anns):\n",
    "        # Extract info.\n",
    "        im_fn = image_id_to_fn[ann[\"image_id\"]]\n",
    "        bbox = ann[\"bbox\"]\n",
    "        # Read the image.\n",
    "        img = read_image(im_fn, format=\"RGB\")\n",
    "        # Square the box and expand it.\n",
    "        x, y, w, h = expand_bounding_box(bbox, 1.2, img.shape[0], img.shape[1])\n",
    "        # Crop and resize the image.\n",
    "        crop_img = img[int(y) : int(y + h), int(x) : int(x + w)]\n",
    "        crop_img = cv2.resize(crop_img, (cell_size, cell_size))\n",
    "        crop_img = Image.fromarray(crop_img)\n",
    "        # Add occurrence index.\n",
    "        draw = ImageDraw.Draw(crop_img)\n",
    "        font_size = int(round(0.1667 * cell_size))\n",
    "        font = ImageFont.truetype(\n",
    "            \"/usr/share/fonts/truetype/dejavu/DejaVuSerif.ttf\", font_size\n",
    "        )\n",
    "        x = int(round(0.02 * cell_size))\n",
    "        draw.text((x, 0), str(item_id), (255, 255, 0), font=font)\n",
    "        font = ImageFont.truetype(\n",
    "            \"/usr/share/fonts/truetype/dejavu/DejaVuSerif.ttf\", font_size - 4\n",
    "        )\n",
    "        y_offset = 2 if cols < 7 else 3\n",
    "        draw.text((x + 1, y_offset), str(item_id), (0, 0, 0), font=font)\n",
    "        crop_img = np.asarray(crop_img)\n",
    "        # Append the occurrence crop to the output.\n",
    "        imgs.append(Image.fromarray(crop_img))\n",
    "        if len(imgs) == max_num_images:\n",
    "            break\n",
    "    if len(imgs) == 0:\n",
    "        imgs = [Image.fromarray(255 * np.ones((cell_size, cell_size, 3), dtype=\"uint8\"))]\n",
    "    if len(imgs) < max_num_images:\n",
    "        rows = (len(imgs) - 1) // cols + 1\n",
    "        imgs += (rows * cols - len(imgs)) * [Image.fromarray(255 * np.ones_like(imgs[0]))]\n",
    "    return image_grid(imgs, rows, cols)\n"
   ]
  },
  {
   "cell_type": "markdown",
   "id": "30321d81",
   "metadata": {},
   "source": [
    "## Visualize"
   ]
  },
  {
   "cell_type": "code",
   "execution_count": null,
   "id": "5305c4de",
   "metadata": {
    "scrolled": false
   },
   "outputs": [],
   "source": [
    "from collections import defaultdict\n",
    "\n",
    "# Parameters.\n",
    "num_rows = 12               # Number of image grid rows\n",
    "num_cols = 6                # Number of image grid columns\n",
    "vis_cat_names = [\"wrench\"]  # Object categories to visualize, set to None for all\n",
    "vis_min_num_occ = 5         # Show instances with more than minimum number of occurrences, set to None to disable\n",
    "vis_inst_per_cat = 10\n",
    "\n",
    "# Get visualization categories.\n",
    "if vis_cat_names is None:\n",
    "    vis_cat_names = sorted(cat_name_to_inst_to_anns.keys())\n",
    "\n",
    "# Visualize instances for desired categories.\n",
    "for cat_name in vis_cat_names:\n",
    "    inst_id_to_anns = cat_name_to_inst_to_anns[cat_name]\n",
    "    if vis_min_num_occ is not None:\n",
    "        # Skip instances with less than minimum number of occurrences.\n",
    "        inst_id_to_anns = {inst_id: anns for inst_id, anns in inst_id_to_anns.items() if len(anns) >= vis_min_num_occ}\n",
    "    for inst_id, anns in sorted(inst_id_to_anns.items(), key=lambda x: x[0]):\n",
    "        # Get visualization image.\n",
    "        vis_im = visualize_instances(anns, num_rows, num_cols, image_id_to_fn)\n",
    "        # Display the image.\n",
    "        print(f\"Instance {inst_id} for category {cat_name}\")\n",
    "        display(vis_im)\n"
   ]
  }
 ],
 "metadata": {
  "kernelspec": {
   "display_name": "Python 3 (ipykernel)",
   "language": "python",
   "name": "python3"
  },
  "language_info": {
   "codemirror_mode": {
    "name": "ipython",
    "version": 3
   },
   "file_extension": ".py",
   "mimetype": "text/x-python",
   "name": "python",
   "nbconvert_exporter": "python",
   "pygments_lexer": "ipython3",
   "version": "3.9.15"
  }
 },
 "nbformat": 4,
 "nbformat_minor": 5
}
