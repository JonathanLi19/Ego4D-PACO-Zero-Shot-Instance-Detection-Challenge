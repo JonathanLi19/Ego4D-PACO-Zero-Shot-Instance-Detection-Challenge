{
 "cells": [
  {
   "cell_type": "markdown",
   "id": "3b8e2aeb",
   "metadata": {},
   "source": [
    "## Specify dataset name"
   ]
  },
  {
   "cell_type": "code",
   "execution_count": null,
   "id": "097805f7",
   "metadata": {},
   "outputs": [],
   "source": [
    "# Specify dataset name. Available options:\n",
    "# dataset_name = \"paco_lvis_v1_test\"\n",
    "# dataset_name = \"paco_ego4d_v1_test\"\n",
    "dataset_name = \"paco_lvis_v1_test\"\n"
   ]
  },
  {
   "cell_type": "markdown",
   "id": "975e9137",
   "metadata": {},
   "source": [
    "## Load dataset and extract maps"
   ]
  },
  {
   "cell_type": "code",
   "execution_count": null,
   "id": "c2714802",
   "metadata": {},
   "outputs": [],
   "source": [
    "import json\n",
    "from paco.data.datasets.builtin import _PREDEFINED_PACO\n",
    "\n",
    "# Derived parameters.\n",
    "dataset_file_name, image_root_dir = _PREDEFINED_PACO[dataset_name]\n",
    "\n",
    "# Load dataset.\n",
    "with open(dataset_file_name) as f:\n",
    "    dataset = json.load(f)\n"
   ]
  },
  {
   "cell_type": "code",
   "execution_count": null,
   "id": "7c59f89e",
   "metadata": {},
   "outputs": [],
   "source": [
    "import os\n",
    "from collections import defaultdict\n",
    "\n",
    "# Extract maps from the dataset.\n",
    "image_id_to_image_file_name = {d[\"id\"]: os.path.join(image_root_dir, d[\"file_name\"]) for d in dataset[\"images\"]}\n",
    "ann_id_to_ann = {d[\"id\"]: d for d in dataset[\"annotations\"]}\n",
    "query_id_to_query_dict = {}\n",
    "for q in dataset[\"queries\"]:\n",
    "    query_id_to_query_dict[q[\"id\"]] = q\n",
    "cat_to_query_ids = defaultdict(list)\n",
    "for d in dataset[\"queries\"]:\n",
    "    cat_to_query_ids[d[\"structured_query\"][0]].append(d[\"id\"])\n",
    "cat_to_query_ids = dict(cat_to_query_ids)\n",
    "\n"
   ]
  },
  {
   "cell_type": "markdown",
   "id": "955ca7c5",
   "metadata": {},
   "source": [
    "## Visualize"
   ]
  },
  {
   "cell_type": "code",
   "execution_count": null,
   "id": "3ef70843",
   "metadata": {},
   "outputs": [],
   "source": [
    "import cv2\n",
    "import numpy as np\n",
    "from PIL import Image, ImageDraw\n",
    "from copy import deepcopy\n",
    "\n",
    "def resize_to_height(im, new_h):\n",
    "    h, w = im.shape[:2]\n",
    "    new_w = int(round(w * new_h / h))\n",
    "    return cv2.resize(im, (new_w, new_h))\n",
    "\n",
    "def add_border(im, num_px, num_px_left=None, value=(255, 255, 255)):\n",
    "    if num_px_left is None:\n",
    "        num_px_left = num_px\n",
    "    im[:num_px, :] = value\n",
    "    im[-num_px:, :] = value\n",
    "    im[:, :num_px_left] = value\n",
    "    im[:, -num_px:] = value\n",
    "\n",
    "def gen_pos_neg_im(query_dict, num_im_per_row, out_im_h, num_border_px):\n",
    "    \"\"\"\n",
    "    Generates a row of one positive and N negative images for\n",
    "    provided query dict. Uses global image_id_to_image_file_name\n",
    "    and ann_id_to_ann maps.\n",
    "    \"\"\"\n",
    "    imgs = []\n",
    "    # Get positive image and draw positive/negative boxes.\n",
    "    im_id = ann_id_to_ann[query_dict[\"pos_ann_ids\"][0]][\"image_id\"]\n",
    "    pos_im = Image.open(image_id_to_image_file_name[im_id])\n",
    "    draw = ImageDraw.Draw(pos_im)\n",
    "    for ann_id in query_dict[\"pos_ann_ids\"]:\n",
    "        ann = ann_id_to_ann[ann_id]\n",
    "        bbox = np.array(ann[\"bbox\"])\n",
    "        bbox[2:] += bbox[:2]\n",
    "        draw.rectangle(bbox.tolist(), outline=\"green\", width=10)\n",
    "    for ann_id in query_dict[\"neg_ann_ids\"]:\n",
    "        ann = ann_id_to_ann[ann_id]\n",
    "        bbox = np.array(ann[\"bbox\"])\n",
    "        bbox[2:] += bbox[:2]\n",
    "        draw.rectangle(bbox.tolist(), outline=\"red\", width=8)\n",
    "    pos_im = resize_to_height(np.asarray(pos_im), out_im_h)\n",
    "    add_border(pos_im, num_border_px, None, (119, 172, 48))  # Green\n",
    "    imgs.append(pos_im)\n",
    "    imgs.append(255*np.ones((pos_im.shape[0], 2*num_border_px, pos_im.shape[2]), dtype=\"uint8\"))\n",
    "    # Get negative images.\n",
    "    neg_im_ids = query_dict[\"neg_im_ids\"][:num_im_per_row-1]\n",
    "    for idx, im_id in enumerate(neg_im_ids):\n",
    "        neg_im = Image.open(image_id_to_image_file_name[im_id])\n",
    "        neg_im = resize_to_height(np.asarray(neg_im), out_im_h)\n",
    "        add_border(neg_im, num_border_px, (idx == 0) * num_border_px, (217, 83, 25))  # Red\n",
    "        imgs.append(neg_im)\n",
    "    im = np.concatenate(imgs, axis=1)\n",
    "    return im\n",
    "\n",
    "# Parameters.\n",
    "# vis_cats = sorted({d[\"structured_query\"][0] for d in dataset[\"queries\"]})\n",
    "# vis_cats = [\"basket\", \"bench\", \"bottle\", \"chair\", \"mug\", \"scissors\", \"trash_can\", \"vase\", \"book\", \"dog\"]\n",
    "vis_cats = [\"dog\"]      # List of categories for which to show queries\n",
    "vis_num_queries = 4     # Number of queries per category to show\n",
    "vis_num_im_per_row = 4  # Total number of images per query to show (including the one positive image)\n",
    "vis_border_px = 10      # Number of border pixels around each image\n",
    "vis_im_height = 480     # Visualization image height\n",
    "random_seed = 93028477  # Random seed, set to None to disable\n",
    "\n",
    "# Set the seed for reproducibility.\n",
    "if random_seed is not None:\n",
    "    np.random.seed(random_seed)\n",
    "\n",
    "# Visualize.\n",
    "for cat in vis_cats:\n",
    "    query_ids = deepcopy(cat_to_query_ids[cat])\n",
    "    np.random.shuffle(query_ids)\n",
    "    for query_id in sorted(query_ids[:vis_num_queries]):\n",
    "        query_dict = query_id_to_query_dict[query_id]\n",
    "        im = gen_pos_neg_im(query_dict, vis_num_im_per_row, vis_im_height, vis_border_px)\n",
    "        print(query_dict[\"query_string\"], \"(query ID:\", query_id, \")\")\n",
    "        display(Image.fromarray(im))\n"
   ]
  }
 ],
 "metadata": {
  "kernelspec": {
   "display_name": "Python 3 (ipykernel)",
   "language": "python",
   "name": "python3"
  },
  "language_info": {
   "codemirror_mode": {
    "name": "ipython",
    "version": 3
   },
   "file_extension": ".py",
   "mimetype": "text/x-python",
   "name": "python",
   "nbconvert_exporter": "python",
   "pygments_lexer": "ipython3",
   "version": "3.9.15"
  },
  "vscode": {
   "interpreter": {
    "hash": "9301f0a64ea80b20fd8057322b7e89739d595427b1d8858e6fcbd89cc03482e2"
   }
  }
 },
 "nbformat": 4,
 "nbformat_minor": 5
}
